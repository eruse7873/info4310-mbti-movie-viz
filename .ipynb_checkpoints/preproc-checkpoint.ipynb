{
 "cells": [
  {
   "cell_type": "code",
   "execution_count": 46,
   "id": "97024029-b4a2-4281-86d6-52b9b18a693e",
   "metadata": {},
   "outputs": [],
   "source": [
    "import pandas as pd"
   ]
  },
  {
   "cell_type": "code",
   "execution_count": 47,
   "id": "4d5ae29c-939a-41fc-a46c-d6bc68027184",
   "metadata": {},
   "outputs": [],
   "source": [
    "df = pd.read_csv(\"mbti.csv\")"
   ]
  },
  {
   "cell_type": "code",
   "execution_count": 48,
   "id": "225895e6-30c6-4a64-8834-5004fd4619fc",
   "metadata": {},
   "outputs": [],
   "source": [
    "df = df.drop(columns = ['stat'])"
   ]
  },
  {
   "cell_type": "code",
   "execution_count": 49,
   "id": "bd2d7a90-b1a3-4820-a254-c36611d0fe0f",
   "metadata": {},
   "outputs": [
    {
     "data": {
      "text/plain": [
       "array(['ESFP', 'XXXX', 'ESFJ', 'ESTP', 'ESTJ', 'ENFP', 'ENFJ', 'ENTP',\n",
       "       'ENTJ', 'ISFP', 'ISFJ', 'ISTP', 'ISTJ', 'INFP', 'INFJ', 'INTP',\n",
       "       'INTJ'], dtype=object)"
      ]
     },
     "execution_count": 49,
     "metadata": {},
     "output_type": "execute_result"
    }
   ],
   "source": [
    "df['mbti'].unique()"
   ]
  },
  {
   "cell_type": "code",
   "execution_count": 50,
   "id": "bf81d5cc-420e-40fa-b639-2f0412317000",
   "metadata": {},
   "outputs": [
    {
     "data": {
      "text/html": [
       "<div>\n",
       "<style scoped>\n",
       "    .dataframe tbody tr th:only-of-type {\n",
       "        vertical-align: middle;\n",
       "    }\n",
       "\n",
       "    .dataframe tbody tr th {\n",
       "        vertical-align: top;\n",
       "    }\n",
       "\n",
       "    .dataframe thead th {\n",
       "        text-align: right;\n",
       "    }\n",
       "</style>\n",
       "<table border=\"1\" class=\"dataframe\">\n",
       "  <thead>\n",
       "    <tr style=\"text-align: right;\">\n",
       "      <th></th>\n",
       "      <th>mbti</th>\n",
       "      <th>enneagram</th>\n",
       "      <th>role</th>\n",
       "      <th>movie</th>\n",
       "      <th>img_url</th>\n",
       "    </tr>\n",
       "  </thead>\n",
       "  <tbody>\n",
       "    <tr>\n",
       "      <th>0</th>\n",
       "      <td>ESFP</td>\n",
       "      <td>7w6</td>\n",
       "      <td>Peter Quill \"Star-Lord\"</td>\n",
       "      <td>Marvel Cinematic Universe</td>\n",
       "      <td>https://www.personality-database.com/profile_i...</td>\n",
       "    </tr>\n",
       "    <tr>\n",
       "      <th>1</th>\n",
       "      <td>ESFP</td>\n",
       "      <td>8w7</td>\n",
       "      <td>Anakin Skywalker</td>\n",
       "      <td>Star Wars</td>\n",
       "      <td>https://www.personality-database.com/profile_i...</td>\n",
       "    </tr>\n",
       "    <tr>\n",
       "      <th>2</th>\n",
       "      <td>ESFP</td>\n",
       "      <td>6w7</td>\n",
       "      <td>Ron Weasley</td>\n",
       "      <td>Harry Potter (franchise)</td>\n",
       "      <td>https://www.personality-database.com/profile_i...</td>\n",
       "    </tr>\n",
       "    <tr>\n",
       "      <th>3</th>\n",
       "      <td>ESFP</td>\n",
       "      <td>7w8</td>\n",
       "      <td>Bellatrix Lestrange</td>\n",
       "      <td>Harry Potter (franchise)</td>\n",
       "      <td>https://www.personality-database.com/profile_i...</td>\n",
       "    </tr>\n",
       "    <tr>\n",
       "      <th>4</th>\n",
       "      <td>ESFP</td>\n",
       "      <td>7w6</td>\n",
       "      <td>Simba</td>\n",
       "      <td>The Lion King (1994)</td>\n",
       "      <td>https://www.personality-database.com/profile_i...</td>\n",
       "    </tr>\n",
       "    <tr>\n",
       "      <th>...</th>\n",
       "      <td>...</td>\n",
       "      <td>...</td>\n",
       "      <td>...</td>\n",
       "      <td>...</td>\n",
       "      <td>...</td>\n",
       "    </tr>\n",
       "    <tr>\n",
       "      <th>18734</th>\n",
       "      <td>INTJ</td>\n",
       "      <td>6w5</td>\n",
       "      <td>Richard Parker</td>\n",
       "      <td>The Amazing Spider-Man (2012)</td>\n",
       "      <td>https://www.personality-database.com/images/pr...</td>\n",
       "    </tr>\n",
       "    <tr>\n",
       "      <th>18736</th>\n",
       "      <td>INTJ</td>\n",
       "      <td>5w4</td>\n",
       "      <td>Dr. Caroline Caldwell</td>\n",
       "      <td>The Girl with All the Gifts (2016)</td>\n",
       "      <td>https://www.personality-database.com/images/pr...</td>\n",
       "    </tr>\n",
       "    <tr>\n",
       "      <th>18737</th>\n",
       "      <td>INTJ</td>\n",
       "      <td>5w6</td>\n",
       "      <td>Richard</td>\n",
       "      <td>Eat Pray Love</td>\n",
       "      <td>https://www.personality-database.com/images/pr...</td>\n",
       "    </tr>\n",
       "    <tr>\n",
       "      <th>18739</th>\n",
       "      <td>INTJ</td>\n",
       "      <td>1w9</td>\n",
       "      <td>Klimek 'The General'</td>\n",
       "      <td>The Informer</td>\n",
       "      <td>https://www.personality-database.com/images/pr...</td>\n",
       "    </tr>\n",
       "    <tr>\n",
       "      <th>18740</th>\n",
       "      <td>INTJ</td>\n",
       "      <td>NaN</td>\n",
       "      <td>Lily Walker</td>\n",
       "      <td>Revolver (2005)</td>\n",
       "      <td>https://www.personality-database.com/images/pr...</td>\n",
       "    </tr>\n",
       "  </tbody>\n",
       "</table>\n",
       "<p>18007 rows × 5 columns</p>\n",
       "</div>"
      ],
      "text/plain": [
       "       mbti enneagram                     role  \\\n",
       "0      ESFP       7w6  Peter Quill \"Star-Lord\"   \n",
       "1      ESFP       8w7         Anakin Skywalker   \n",
       "2      ESFP       6w7              Ron Weasley   \n",
       "3      ESFP       7w8      Bellatrix Lestrange   \n",
       "4      ESFP       7w6                    Simba   \n",
       "...     ...       ...                      ...   \n",
       "18734  INTJ       6w5           Richard Parker   \n",
       "18736  INTJ       5w4    Dr. Caroline Caldwell   \n",
       "18737  INTJ       5w6                  Richard   \n",
       "18739  INTJ       1w9     Klimek 'The General'   \n",
       "18740  INTJ       NaN              Lily Walker   \n",
       "\n",
       "                                       movie  \\\n",
       "0                  Marvel Cinematic Universe   \n",
       "1                                  Star Wars   \n",
       "2                   Harry Potter (franchise)   \n",
       "3                   Harry Potter (franchise)   \n",
       "4                       The Lion King (1994)   \n",
       "...                                      ...   \n",
       "18734          The Amazing Spider-Man (2012)   \n",
       "18736     The Girl with All the Gifts (2016)   \n",
       "18737                          Eat Pray Love   \n",
       "18739                           The Informer   \n",
       "18740                        Revolver (2005)   \n",
       "\n",
       "                                                 img_url  \n",
       "0      https://www.personality-database.com/profile_i...  \n",
       "1      https://www.personality-database.com/profile_i...  \n",
       "2      https://www.personality-database.com/profile_i...  \n",
       "3      https://www.personality-database.com/profile_i...  \n",
       "4      https://www.personality-database.com/profile_i...  \n",
       "...                                                  ...  \n",
       "18734  https://www.personality-database.com/images/pr...  \n",
       "18736  https://www.personality-database.com/images/pr...  \n",
       "18737  https://www.personality-database.com/images/pr...  \n",
       "18739  https://www.personality-database.com/images/pr...  \n",
       "18740  https://www.personality-database.com/images/pr...  \n",
       "\n",
       "[18007 rows x 5 columns]"
      ]
     },
     "execution_count": 50,
     "metadata": {},
     "output_type": "execute_result"
    }
   ],
   "source": [
    "# drop XXXX\n",
    "df[df['mbti']!= \"XXXX\"]"
   ]
  },
  {
   "cell_type": "code",
   "execution_count": 51,
   "id": "2fb4d085-f7dc-489f-9378-b3d5ff858992",
   "metadata": {},
   "outputs": [],
   "source": [
    "# drop NaN in enneagram\n",
    "df = df[df['enneagram'].notna()]"
   ]
  },
  {
   "cell_type": "code",
   "execution_count": null,
   "id": "e8709f2d-68a9-4f5d-963e-1259a261f654",
   "metadata": {},
   "outputs": [],
   "source": []
  },
  {
   "cell_type": "code",
   "execution_count": 52,
   "id": "4f0b75d1-85b6-476b-a570-f11ba2074e76",
   "metadata": {},
   "outputs": [],
   "source": [
    "## only get the first number\n",
    "enn_1 = []\n",
    "for x in df.enneagram.values:\n",
    "    enn_1.append(int(x[0]))\n",
    "enn_2 = []\n",
    "for x in df.enneagram.values:\n",
    "    enn_2.append(int(x[-1]))"
   ]
  },
  {
   "cell_type": "code",
   "execution_count": 53,
   "id": "a4a77b45-8ad5-44c2-9dee-4f446bd40aca",
   "metadata": {},
   "outputs": [
    {
     "ename": "ValueError",
     "evalue": "Length of values (0) does not match length of index (12066)",
     "output_type": "error",
     "traceback": [
      "\u001b[1;31m---------------------------------------------------------------------------\u001b[0m",
      "\u001b[1;31mValueError\u001b[0m                                Traceback (most recent call last)",
      "Input \u001b[1;32mIn [53]\u001b[0m, in \u001b[0;36m<cell line: 1>\u001b[1;34m()\u001b[0m\n\u001b[1;32m----> 1\u001b[0m df[\u001b[38;5;124m'\u001b[39m\u001b[38;5;124menn_1\u001b[39m\u001b[38;5;124m'\u001b[39m] \u001b[38;5;241m=\u001b[39m enn_1\n\u001b[0;32m      2\u001b[0m df[\u001b[38;5;124m'\u001b[39m\u001b[38;5;124menn_2\u001b[39m\u001b[38;5;124m'\u001b[39m] \u001b[38;5;241m=\u001b[39m enn_2\n",
      "File \u001b[1;32m~\\anaconda3\\envs\\info2950\\lib\\site-packages\\pandas\\core\\frame.py:3655\u001b[0m, in \u001b[0;36mDataFrame.__setitem__\u001b[1;34m(self, key, value)\u001b[0m\n\u001b[0;32m   3652\u001b[0m     \u001b[38;5;28mself\u001b[39m\u001b[38;5;241m.\u001b[39m_setitem_array([key], value)\n\u001b[0;32m   3653\u001b[0m \u001b[38;5;28;01melse\u001b[39;00m:\n\u001b[0;32m   3654\u001b[0m     \u001b[38;5;66;03m# set column\u001b[39;00m\n\u001b[1;32m-> 3655\u001b[0m     \u001b[38;5;28;43mself\u001b[39;49m\u001b[38;5;241;43m.\u001b[39;49m\u001b[43m_set_item\u001b[49m\u001b[43m(\u001b[49m\u001b[43mkey\u001b[49m\u001b[43m,\u001b[49m\u001b[43m \u001b[49m\u001b[43mvalue\u001b[49m\u001b[43m)\u001b[49m\n",
      "File \u001b[1;32m~\\anaconda3\\envs\\info2950\\lib\\site-packages\\pandas\\core\\frame.py:3832\u001b[0m, in \u001b[0;36mDataFrame._set_item\u001b[1;34m(self, key, value)\u001b[0m\n\u001b[0;32m   3822\u001b[0m \u001b[38;5;28;01mdef\u001b[39;00m \u001b[38;5;21m_set_item\u001b[39m(\u001b[38;5;28mself\u001b[39m, key, value) \u001b[38;5;241m-\u001b[39m\u001b[38;5;241m>\u001b[39m \u001b[38;5;28;01mNone\u001b[39;00m:\n\u001b[0;32m   3823\u001b[0m     \u001b[38;5;124;03m\"\"\"\u001b[39;00m\n\u001b[0;32m   3824\u001b[0m \u001b[38;5;124;03m    Add series to DataFrame in specified column.\u001b[39;00m\n\u001b[0;32m   3825\u001b[0m \n\u001b[1;32m   (...)\u001b[0m\n\u001b[0;32m   3830\u001b[0m \u001b[38;5;124;03m    ensure homogeneity.\u001b[39;00m\n\u001b[0;32m   3831\u001b[0m \u001b[38;5;124;03m    \"\"\"\u001b[39;00m\n\u001b[1;32m-> 3832\u001b[0m     value \u001b[38;5;241m=\u001b[39m \u001b[38;5;28;43mself\u001b[39;49m\u001b[38;5;241;43m.\u001b[39;49m\u001b[43m_sanitize_column\u001b[49m\u001b[43m(\u001b[49m\u001b[43mvalue\u001b[49m\u001b[43m)\u001b[49m\n\u001b[0;32m   3834\u001b[0m     \u001b[38;5;28;01mif\u001b[39;00m (\n\u001b[0;32m   3835\u001b[0m         key \u001b[38;5;129;01min\u001b[39;00m \u001b[38;5;28mself\u001b[39m\u001b[38;5;241m.\u001b[39mcolumns\n\u001b[0;32m   3836\u001b[0m         \u001b[38;5;129;01mand\u001b[39;00m value\u001b[38;5;241m.\u001b[39mndim \u001b[38;5;241m==\u001b[39m \u001b[38;5;241m1\u001b[39m\n\u001b[0;32m   3837\u001b[0m         \u001b[38;5;129;01mand\u001b[39;00m \u001b[38;5;129;01mnot\u001b[39;00m is_extension_array_dtype(value)\n\u001b[0;32m   3838\u001b[0m     ):\n\u001b[0;32m   3839\u001b[0m         \u001b[38;5;66;03m# broadcast across multiple columns if necessary\u001b[39;00m\n\u001b[0;32m   3840\u001b[0m         \u001b[38;5;28;01mif\u001b[39;00m \u001b[38;5;129;01mnot\u001b[39;00m \u001b[38;5;28mself\u001b[39m\u001b[38;5;241m.\u001b[39mcolumns\u001b[38;5;241m.\u001b[39mis_unique \u001b[38;5;129;01mor\u001b[39;00m \u001b[38;5;28misinstance\u001b[39m(\u001b[38;5;28mself\u001b[39m\u001b[38;5;241m.\u001b[39mcolumns, MultiIndex):\n",
      "File \u001b[1;32m~\\anaconda3\\envs\\info2950\\lib\\site-packages\\pandas\\core\\frame.py:4538\u001b[0m, in \u001b[0;36mDataFrame._sanitize_column\u001b[1;34m(self, value)\u001b[0m\n\u001b[0;32m   4535\u001b[0m     \u001b[38;5;28;01mreturn\u001b[39;00m _reindex_for_setitem(value, \u001b[38;5;28mself\u001b[39m\u001b[38;5;241m.\u001b[39mindex)\n\u001b[0;32m   4537\u001b[0m \u001b[38;5;28;01mif\u001b[39;00m is_list_like(value):\n\u001b[1;32m-> 4538\u001b[0m     \u001b[43mcom\u001b[49m\u001b[38;5;241;43m.\u001b[39;49m\u001b[43mrequire_length_match\u001b[49m\u001b[43m(\u001b[49m\u001b[43mvalue\u001b[49m\u001b[43m,\u001b[49m\u001b[43m \u001b[49m\u001b[38;5;28;43mself\u001b[39;49m\u001b[38;5;241;43m.\u001b[39;49m\u001b[43mindex\u001b[49m\u001b[43m)\u001b[49m\n\u001b[0;32m   4539\u001b[0m \u001b[38;5;28;01mreturn\u001b[39;00m sanitize_array(value, \u001b[38;5;28mself\u001b[39m\u001b[38;5;241m.\u001b[39mindex, copy\u001b[38;5;241m=\u001b[39m\u001b[38;5;28;01mTrue\u001b[39;00m, allow_2d\u001b[38;5;241m=\u001b[39m\u001b[38;5;28;01mTrue\u001b[39;00m)\n",
      "File \u001b[1;32m~\\anaconda3\\envs\\info2950\\lib\\site-packages\\pandas\\core\\common.py:557\u001b[0m, in \u001b[0;36mrequire_length_match\u001b[1;34m(data, index)\u001b[0m\n\u001b[0;32m    553\u001b[0m \u001b[38;5;124;03m\"\"\"\u001b[39;00m\n\u001b[0;32m    554\u001b[0m \u001b[38;5;124;03mCheck the length of data matches the length of the index.\u001b[39;00m\n\u001b[0;32m    555\u001b[0m \u001b[38;5;124;03m\"\"\"\u001b[39;00m\n\u001b[0;32m    556\u001b[0m \u001b[38;5;28;01mif\u001b[39;00m \u001b[38;5;28mlen\u001b[39m(data) \u001b[38;5;241m!=\u001b[39m \u001b[38;5;28mlen\u001b[39m(index):\n\u001b[1;32m--> 557\u001b[0m     \u001b[38;5;28;01mraise\u001b[39;00m \u001b[38;5;167;01mValueError\u001b[39;00m(\n\u001b[0;32m    558\u001b[0m         \u001b[38;5;124m\"\u001b[39m\u001b[38;5;124mLength of values \u001b[39m\u001b[38;5;124m\"\u001b[39m\n\u001b[0;32m    559\u001b[0m         \u001b[38;5;124mf\u001b[39m\u001b[38;5;124m\"\u001b[39m\u001b[38;5;124m(\u001b[39m\u001b[38;5;132;01m{\u001b[39;00m\u001b[38;5;28mlen\u001b[39m(data)\u001b[38;5;132;01m}\u001b[39;00m\u001b[38;5;124m) \u001b[39m\u001b[38;5;124m\"\u001b[39m\n\u001b[0;32m    560\u001b[0m         \u001b[38;5;124m\"\u001b[39m\u001b[38;5;124mdoes not match length of index \u001b[39m\u001b[38;5;124m\"\u001b[39m\n\u001b[0;32m    561\u001b[0m         \u001b[38;5;124mf\u001b[39m\u001b[38;5;124m\"\u001b[39m\u001b[38;5;124m(\u001b[39m\u001b[38;5;132;01m{\u001b[39;00m\u001b[38;5;28mlen\u001b[39m(index)\u001b[38;5;132;01m}\u001b[39;00m\u001b[38;5;124m)\u001b[39m\u001b[38;5;124m\"\u001b[39m\n\u001b[0;32m    562\u001b[0m     )\n",
      "\u001b[1;31mValueError\u001b[0m: Length of values (0) does not match length of index (12066)"
     ]
    }
   ],
   "source": [
    "df['enn_1'] = enn_1\n",
    "df['enn_2'] = enn_2"
   ]
  },
  {
   "cell_type": "code",
   "execution_count": null,
   "id": "243ad413-cf01-4fa6-96c7-e67ea0e9aeec",
   "metadata": {},
   "outputs": [],
   "source": [
    "## returns a picture\n",
    "df.img_url[5]"
   ]
  },
  {
   "cell_type": "code",
   "execution_count": null,
   "id": "1a5ed481-4e60-4b0a-b179-5bcb2ae81ff6",
   "metadata": {},
   "outputs": [],
   "source": [
    "df"
   ]
  }
 ],
 "metadata": {
  "kernelspec": {
   "display_name": "Python 3 (ipykernel)",
   "language": "python",
   "name": "python3"
  },
  "language_info": {
   "codemirror_mode": {
    "name": "ipython",
    "version": 3
   },
   "file_extension": ".py",
   "mimetype": "text/x-python",
   "name": "python",
   "nbconvert_exporter": "python",
   "pygments_lexer": "ipython3",
   "version": "3.9.13"
  }
 },
 "nbformat": 4,
 "nbformat_minor": 5
}
